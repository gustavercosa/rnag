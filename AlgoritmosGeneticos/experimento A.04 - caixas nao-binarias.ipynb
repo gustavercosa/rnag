{
 "cells": [
  {
   "cell_type": "markdown",
   "metadata": {},
   "source": [
    "Problema das caixas não-binárias\n",
    "================================\n",
    "\n"
   ]
  },
  {
   "cell_type": "markdown",
   "metadata": {},
   "source": [
    "## Objetivo\n",
    "\n"
   ]
  },
  {
   "cell_type": "markdown",
   "metadata": {},
   "source": [
    "Encontrar uma solução para o problema das caixas não-binárias usando um algoritmo genético. Considere 4 caixas. Considere que cada caixa pode ter um valor inteiro dentro do conjunto [0, 100].\n",
    "\n"
   ]
  },
  {
   "cell_type": "markdown",
   "metadata": {},
   "source": [
    "## Descrição do problema\n",
    "\n"
   ]
  },
  {
   "cell_type": "markdown",
   "metadata": {},
   "source": [
    "O problema das caixas não-binárias é simples: nós temos um certo número de caixas e cada uma pode conter um número inteiro. O objetivo é encontrar uma combinação de caixas onde a soma dos valores contidos dentro delas é máximo.\n",
    "\n"
   ]
  },
  {
   "cell_type": "markdown",
   "metadata": {},
   "source": [
    "## Importações\n",
    "\n"
   ]
  },
  {
   "cell_type": "code",
   "execution_count": 1,
   "metadata": {},
   "outputs": [],
   "source": [
    "from funcoes import populacao_cnb\n",
    "from funcoes import funcao_objetiva_pop_cnb as funcao_objetiva_pop\n",
    "from funcoes import selecao_roleta_max as funcao_selecao\n",
    "from funcoes import cruzamento_ponto_simples as funcao_cruzamento\n",
    "from funcoes import mutacao_cnb \n",
    "import random"
   ]
  },
  {
   "cell_type": "markdown",
   "metadata": {},
   "source": [
    "## Códigos e discussão\n",
    "\n"
   ]
  },
  {
   "cell_type": "code",
   "execution_count": 2,
   "metadata": {},
   "outputs": [],
   "source": [
    "# Constantes:\n",
    "TAMANHO_POP = 4\n",
    "NUM_GERACOES = 4\n",
    "CHANCE_CRUZAMENTO = 0.5\n",
    "CHANCE_MUTACAO = 0.05\n",
    "\n",
    "# Relacionadas ao problema a ser resolvido\n",
    "VALOR_MAX_CAIXA = 100\n",
    "NUM_GENES = 4"
   ]
  },
  {
   "cell_type": "code",
   "execution_count": 3,
   "metadata": {},
   "outputs": [],
   "source": [
    "# Funções locais\n",
    "def cria_populacao_inicial(tamanho, n_genes):\n",
    "    return populacao_cnb(tamanho, n_genes, VALOR_MAX_CAIXA)\n",
    "\n",
    "def funcao_mutacao(individuo):\n",
    "    return mutacao_cnb(individuo, VALOR_MAX_CAIXA)"
   ]
  },
  {
   "cell_type": "code",
   "execution_count": 5,
   "metadata": {},
   "outputs": [
    {
     "name": "stdout",
     "output_type": "stream",
     "text": [
      "Polulação inicial:\n",
      "[[55, 73, 83, 14], [88, 96, 68, 16], [62, 6, 94, 8], [71, 18, 39, 42]]\n",
      "\n",
      "População final:\n",
      "[[55, 73, 83, 14], [55, 73, 83, 14], [55, 73, 83, 14], [55, 73, 83, 14]]\n"
     ]
    }
   ],
   "source": [
    "populacao = cria_populacao_inicial(TAMANHO_POP, NUM_GENES)\n",
    "\n",
    "print(\"Polulação inicial:\")\n",
    "print(populacao)\n",
    "\n",
    "for n in range(NUM_GERACOES):\n",
    "    fitness = funcao_objetiva_pop(populacao)\n",
    "    populacao = funcao_selecao(populacao, fitness)\n",
    "\n",
    "    pais = populacao[0::2]\n",
    "    maes = populacao[1::2]\n",
    "    contador = 0 # Inicializa um contador que será usado para atualizar a população com os novos filhos gerados.\n",
    "    for pai, mae in zip(pais, maes): # Loop que itera sobre pares consecutivos de pais e mães. Em seguida, chama a função de cruzamento `funcao_cruzamento()` com os pais e mães como argumentos para produzir dois filhos.\n",
    "        if random.random() <= CHANCE_CRUZAMENTO: # Verifica se um valor aleatório gerado pela função `random.random()` é menor ou igual à taxa de cruzamento `CHANCE_CRUZAMENTO`.\n",
    "            filho1, filho2 = funcao_cruzamento(pai, mae)\n",
    "            populacao[contador] = filho1\n",
    "            populacao[contador + 1] = filho2\n",
    "        contador = contador + 2\n",
    "    for n in range(len(populacao)): # Loop que itera sobre cada indivíduo da população. Com uma probabilidade de mutação `CHANCE_MUTACAO`, chama a função de mutação `funcao_mutacao()` para gerar uma nova versão do indivíduo. Essa nova versão é colocada na mesma posição do indivíduo original na lista `populacao`.\n",
    "        if random.random() <= CHANCE_MUTACAO:\n",
    "            individuo = populacao[n]\n",
    "            print()\n",
    "            print(individuo)\n",
    "            populacao[n] = funcao_mutacao(individuo)\n",
    "            print(populacao[n])\n",
    "            print()\n",
    "print()\n",
    "print(\"População final:\")\n",
    "print(populacao)"
   ]
  },
  {
   "cell_type": "markdown",
   "metadata": {},
   "source": [
    "## Conclusão\n",
    "\n"
   ]
  },
  {
   "cell_type": "markdown",
   "metadata": {},
   "source": [
    "Agora, que há o estudo de condições não-binárias, a resolução não é tão trivial como a limitação entre 0 e 1. Nesse espaço amostral maior, precisamos estabelecer parâmetros para otimizar essa operação: instaurar um critério de parada e estabelecer (no nosso caso) um valor limite. Essas operações condicionam a execução do código, a fim de promover um resultado mais assertivo, tal como a função objetiva.\n",
    "\n",
    "O objetivo consiste em maximizar a função de aptidão da população, a qual é alcançada através da seleção dos indivíduos mais aptos, cruzamento e mutação com uma taxa de probabilidade predefinida. Cabe ressaltar que a qualidade da solução encontrada pelo algoritmo genético está diretamente ligada aos parâmetros utilizados, tais como o tamanho da população, a taxa de cruzamento e a taxa de mutação. Logo, é fundamental ajustar esses parâmetros adequadamente para garantir a eficiência do algoritmo."
   ]
  }
 ],
 "metadata": {
  "kernelspec": {
   "display_name": "ilumpy",
   "language": "python",
   "name": "ilumpy"
  },
  "language_info": {
   "codemirror_mode": {
    "name": "ipython",
    "version": 3
   },
   "file_extension": ".py",
   "mimetype": "text/x-python",
   "name": "python",
   "nbconvert_exporter": "python",
   "pygments_lexer": "ipython3",
   "version": "3.9.7"
  },
  "org": null
 },
 "nbformat": 4,
 "nbformat_minor": 4
}
