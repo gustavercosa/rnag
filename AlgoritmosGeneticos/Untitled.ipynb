{
 "cells": [
  {
   "cell_type": "code",
   "execution_count": 11,
   "id": "3207eced-a949-45bc-9216-1db476b7d3d4",
   "metadata": {},
   "outputs": [],
   "source": [
    "# Sendo f(x)\n",
    "def f(x):\n",
    "    y = x**3+x-3\n",
    "    return y\n",
    "\n",
    "# Sendo o método da secante\n",
    "def secante(f, x1, x2):\n",
    "    while abs(f(x1)) > 1e-3:\n",
    "        fx1 = f(x1)\n",
    "        fx2 = f(x2)\n",
    "        xtemp = x1\n",
    "        x1 = x1-(x1 - x2)*fx1/(fx1-fx2)\n",
    "        x2 = xtemp\n",
    "    print(\"Temos que o valor da raiz para a função é: \")\n",
    "    return x1"
   ]
  },
  {
   "cell_type": "code",
   "execution_count": 18,
   "id": "5e9a5989-3299-4086-b54a-073152d16a84",
   "metadata": {},
   "outputs": [
    {
     "name": "stdout",
     "output_type": "stream",
     "text": [
      "Temos que o valor da raiz para a função é: \n"
     ]
    },
    {
     "data": {
      "text/plain": [
       "1.2133188666471355"
      ]
     },
     "execution_count": 18,
     "metadata": {},
     "output_type": "execute_result"
    }
   ],
   "source": [
    "secante(f, -2, 2)"
   ]
  }
 ],
 "metadata": {
  "kernelspec": {
   "display_name": "ilumpy",
   "language": "python",
   "name": "ilumpy"
  },
  "language_info": {
   "codemirror_mode": {
    "name": "ipython",
    "version": 3
   },
   "file_extension": ".py",
   "mimetype": "text/x-python",
   "name": "python",
   "nbconvert_exporter": "python",
   "pygments_lexer": "ipython3",
   "version": "3.9.7"
  }
 },
 "nbformat": 4,
 "nbformat_minor": 5
}
