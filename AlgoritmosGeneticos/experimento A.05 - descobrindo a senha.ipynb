{
 "cells": [
  {
   "cell_type": "markdown",
   "metadata": {},
   "source": [
    "Descobrindo a senha\n",
    "===================\n",
    "\n"
   ]
  },
  {
   "cell_type": "markdown",
   "metadata": {},
   "source": [
    "## Objetivo\n",
    "\n"
   ]
  },
  {
   "cell_type": "markdown",
   "metadata": {},
   "source": [
    "Usar um algoritmo genético para descobrir uma senha.\n",
    "\n"
   ]
  },
  {
   "cell_type": "markdown",
   "metadata": {},
   "source": [
    "## Descrição do problema\n",
    "\n"
   ]
  },
  {
   "cell_type": "markdown",
   "metadata": {},
   "source": [
    "Neste problema, a função objetivo deve saber a senha correta e quantificar de alguma maneira o quão perto ou longe os palpites estão da solução (veja que isso é algo que não temos no mundo real. Nenhum site irá te dizer se você está acertando ou errando seu palpite). O critério de parada deste problema é quando a senha for descoberta.\n",
    "\n"
   ]
  },
  {
   "cell_type": "markdown",
   "metadata": {},
   "source": [
    "## Importações\n",
    "\n"
   ]
  },
  {
   "cell_type": "code",
   "execution_count": 1,
   "metadata": {},
   "outputs": [],
   "source": [
    "from funcoes import populacao_inicial_senha\n",
    "from funcoes import funcao_objetiva_pop_senha\n",
    "from funcoes import selecao_torneio_min\n",
    "from funcoes import cruzamento_ponto_simples as funcao_cruzamento\n",
    "from funcoes import mutacao_senha\n",
    "import random"
   ]
  },
  {
   "cell_type": "markdown",
   "metadata": {},
   "source": [
    "## Códigos e discussão\n",
    "\n"
   ]
  },
  {
   "cell_type": "code",
   "execution_count": 2,
   "metadata": {},
   "outputs": [],
   "source": [
    "### Constantes\n",
    "# Relacionadas à busca\n",
    "TAMANHO_POP = 50\n",
    "NUM_GERACOES = 2000\n",
    "CHANCE_CRUZAMENTO = 0.5\n",
    "CHANCE_MUTACAO = 0.05\n",
    "NUM_COMBATENTES_NO_TORNEIO = 3\n",
    "\n",
    "# Relacionadas ao problema a ser resulvido\n",
    "SENHA = \"correcthorsebatterystaple\"\n",
    "LETRAS_POSSIVEIS = \"abcdefghijklmnopqrstuvwxyz\"\n",
    "NUM_GENES = len(SENHA)"
   ]
  },
  {
   "cell_type": "code",
   "execution_count": 3,
   "metadata": {},
   "outputs": [],
   "source": [
    "# Funções locais\n",
    "def cria_populacao_inicial(tamanho, tamanho_senha):\n",
    "    return populacao_inicial_senha(tamanho, tamanho_senha, LETRAS_POSSIVEIS)\n",
    "\n",
    "def funcao_objetiva_pop(populacao):\n",
    "    return funcao_objetiva_pop_senha(populacao, SENHA)\n",
    "\n",
    "def funcao_selecao(populacao, fitness):\n",
    "    return selecao_torneio_min(populacao, fitness, NUM_COMBATENTES_NO_TORNEIO)\n",
    "\n",
    "def funcao_mutacao(individuo):\n",
    "    return mutacao_senha(individuo, LETRAS_POSSIVEIS)"
   ]
  },
  {
   "cell_type": "code",
   "execution_count": 4,
   "metadata": {},
   "outputs": [
    {
     "name": "stdout",
     "output_type": "stream",
     "text": [
      "Progresso da melhor senha já vista:\n",
      "nzokndtqjlehnizsypwvmbgro - fitness: 166\n",
      "bhyzebtshsiobgvioipwxkdmc - fitness: 143\n",
      "bhyzebtshsiobizsypwvmbgrc - fitness: 130\n",
      "bhyzebtshsihbcviapsykdknj - fitness: 113\n",
      "bmyzebtshsihbcviapsykdknj - fitness: 108\n",
      "bmyzebtshsihbcviarupmdolo - fitness: 98\n",
      "bmyzebtshpihbcvtapwvmiknj - fitness: 94\n",
      "bmyzebtshsihbcvtapwvmiknj - fitness: 93\n",
      "bmyzebtshpihbcvtarupmdolo - fitness: 88\n",
      "bmyzebtkhpihbcvtapwvmisnj - fitness: 84\n",
      "bmyzebtkhpihbcvtapwvmdolo - fitness: 80\n",
      "bmyzebtkhpihbcvtapupmdolj - fitness: 77\n",
      "bmyzebtkhpihbcvtarupmdolj - fitness: 75\n",
      "bmyyebtkhpihbcvtarupmdolj - fitness: 74\n",
      "bmyyebtkhpihbcvtarvpmdolj - fitness: 73\n",
      "bmyyebtkhpicbcvtarvpmdolj - fitness: 72\n",
      "bmyyebtkhpihbcvtarxpmdolj - fitness: 71\n",
      "bmyyebtkhpicbcvtarxpmdolj - fitness: 70\n",
      "bmyyebtkhpihbcvtarxppdolj - fitness: 68\n",
      "bpyyebtkhpihbcvtarxppdolj - fitness: 67\n",
      "bpyyebtkhpicbcvtarxppdolj - fitness: 66\n",
      "bpqyebtkhpihbcvtarxppdolj - fitness: 61\n",
      "bpqyebtkhpicbcvtarxppdolj - fitness: 60\n",
      "bpqyebtkhprcbcvtarxppdolj - fitness: 51\n",
      "bpqrebtkhprcbcvtarxppdolj - fitness: 44\n",
      "bpqrebtkhprcbcvtarxpvdolj - fitness: 42\n",
      "bpqrebtkhprcbcvtarxpvaolj - fitness: 39\n",
      "bpqrebtkuprcbcvtarxpvaolj - fitness: 38\n",
      "bpqrebtkuprcbcvtarxpvaolf - fitness: 34\n",
      "bpqrebtkuprcbcttarxpvaolf - fitness: 32\n",
      "bpqrebtkoprcbcvtarxpvaolf - fitness: 28\n",
      "bpqrebtkoprcbcttarxpvaolf - fitness: 26\n",
      "bpqrebtkoprcbcttarxtvaolf - fitness: 24\n",
      "boqrebtkoprcbcttarxtvaolf - fitness: 23\n",
      "coqrebtkoprcbcttarxtvaolf - fitness: 22\n",
      "coqrebtfoprcbcttarxtvaolf - fitness: 21\n",
      "coqrebtfoprcbcttarxtuaolf - fitness: 20\n",
      "coqrebtfoprcbctthrxtuaolf - fitness: 19\n",
      "correbtfoprcbctthrxtuaolf - fitness: 18\n",
      "correbtfoqrcbctthrxtuaolf - fitness: 17\n",
      "correbtfoqscbctthrxtuaolf - fitness: 16\n",
      "correbtfoqscbcttfrxtuaolf - fitness: 14\n",
      "correbtfoqscbcttfrxttaolf - fitness: 13\n",
      "correbtfoqscbcttfrxrtaole - fitness: 12\n",
      "correbtfoqscbcttfryrtaole - fitness: 11\n",
      "correbtfoqsdbcttfryrtaole - fitness: 10\n",
      "correbtioqsdbcttfryrtaole - fitness: 9\n",
      "correbtiorsdbcttfryrtaole - fitness: 8\n",
      "correbtiorsebcttfryrtaole - fitness: 7\n",
      "correbtiorsebbttfryrtaole - fitness: 6\n",
      "correbtiorsebattfryrtaole - fitness: 5\n",
      "correbtiorsebattfrystaole - fitness: 4\n",
      "correbthorsebattfrystaole - fitness: 3\n",
      "correbthorsebatterystaole - fitness: 2\n",
      "correbthorsebatterystaple - fitness: 1\n",
      "correcthorsebatterystaple - fitness: 0\n",
      "\n",
      "Melhor palpite da senha encontrado:\n",
      "correcthorsebatterystaple\n"
     ]
    }
   ],
   "source": [
    "populacao = cria_populacao_inicial(TAMANHO_POP, NUM_GENES)\n",
    "\n",
    "melhor_fitness_ja_visto = float(\"inf\")  # É assim que escrevemos infinito em Python.\n",
    "\n",
    "print(\"Progresso da melhor senha já vista:\")\n",
    "\n",
    "while melhor_fitness_ja_visto != 0: # Executa o algoritmo até encontrar um indivíduo com fitness zero (ou muito próxima de zero).\n",
    "    # Seleção\n",
    "    fitness = funcao_objetiva_pop(populacao)\n",
    "    populacao = funcao_selecao(populacao, fitness)\n",
    "\n",
    "    # Cruzamento\n",
    "    pais = populacao[0::2]\n",
    "    maes = populacao[1::2]\n",
    "    contador = 0\n",
    "    for pai, mae in zip(pais, maes): # Itera sobre os pares de pais e mães.\n",
    "        if random.random() <= CHANCE_CRUZAMENTO: # Verifica se o par deve cruzar conforme a probabilidade definida.\n",
    "            filho1, filho2 = funcao_cruzamento(pai, mae)\n",
    "            populacao[contador] = filho1\n",
    "            populacao[contador + 1] = filho2\n",
    "        contador = contador + 2\n",
    "        \n",
    "    # Mutação\n",
    "    for n in range(len(populacao)): # Itera sobre todos os indivíduos na população.\n",
    "        if random.random() <= CHANCE_MUTACAO: # Verifica se o indivíduo deve sofrer mutação conforme a probabilidade definida.\n",
    "            individuo = populacao[n]\n",
    "            populacao[n] = funcao_mutacao(individuo)\n",
    "            \n",
    "    # Melhor individuo já visto até agora\n",
    "    fitness = funcao_objetiva_pop(populacao)\n",
    "    menor_fitness = min(fitness)\n",
    "    if menor_fitness < melhor_fitness_ja_visto: # Verifica se a menor fitness encontrada é melhor que a melhor fitness já vista até o momento.\n",
    "        posicao = fitness.index(menor_fitness)\n",
    "        melhor_individuo_ja_visto = populacao[posicao]\n",
    "        melhor_fitness_ja_visto = menor_fitness\n",
    "        print(\"\".join(melhor_individuo_ja_visto), \"- fitness:\", melhor_fitness_ja_visto)\n",
    "print()\n",
    "print(\"Melhor palpite da senha encontrado:\")\n",
    "print(\"\".join(melhor_individuo_ja_visto))"
   ]
  },
  {
   "cell_type": "markdown",
   "metadata": {},
   "source": [
    "## Conclusão\n",
    "\n"
   ]
  },
  {
   "cell_type": "markdown",
   "metadata": {},
   "source": [
    "Esse estudo possui diversas características novas que propiciam uma abordagem interessante.\n",
    "\n",
    "Essa dinâmica de tentar acertar uma senha possui uma primeira discussão interessante: como ler a letra como uma componente que pode me proporcionar um dado comparativo. E a partir disso, outra discussão: como entender essa diferença e limitar o meu espaço amostral.\n",
    "\n",
    "A representação de letras como números promove uma aproximação matemática e, assim, uma possibilidade de proporcionar uma representação de diferença entre indivíduos, nesse caso, um cálculo de distância. Isso, com o estabelecimento de um espaço amostral adequado, configura uma busca direcionada para encontrar a senha \"misteriosa\"."
   ]
  }
 ],
 "metadata": {
  "kernelspec": {
   "display_name": "ilumpy",
   "language": "python",
   "name": "ilumpy"
  },
  "language_info": {
   "codemirror_mode": {
    "name": "ipython",
    "version": 3
   },
   "file_extension": ".py",
   "mimetype": "text/x-python",
   "name": "python",
   "nbconvert_exporter": "python",
   "pygments_lexer": "ipython3",
   "version": "3.9.7"
  },
  "org": null
 },
 "nbformat": 4,
 "nbformat_minor": 4
}
