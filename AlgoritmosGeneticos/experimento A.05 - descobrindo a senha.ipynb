{
 "cells": [
  {
   "cell_type": "markdown",
   "metadata": {},
   "source": [
    "Descobrindo a senha\n",
    "===================\n",
    "\n"
   ]
  },
  {
   "cell_type": "markdown",
   "metadata": {},
   "source": [
    "## Objetivo\n",
    "\n"
   ]
  },
  {
   "cell_type": "markdown",
   "metadata": {},
   "source": [
    "Usar um algoritmo genético para descobrir uma senha.\n",
    "\n"
   ]
  },
  {
   "cell_type": "markdown",
   "metadata": {},
   "source": [
    "## Descrição do problema\n",
    "\n"
   ]
  },
  {
   "cell_type": "markdown",
   "metadata": {},
   "source": [
    "Neste problema, a função objetivo deve saber a senha correta e quantificar de alguma maneira o quão perto ou longe os palpites estão da solução (veja que isso é algo que não temos no mundo real. Nenhum site irá te dizer se você está acertando ou errando seu palpite). O critério de parada deste problema é quando a senha for descoberta.\n",
    "\n"
   ]
  },
  {
   "cell_type": "markdown",
   "metadata": {},
   "source": [
    "## Importações\n",
    "\n"
   ]
  },
  {
   "cell_type": "code",
   "execution_count": 1,
   "metadata": {},
   "outputs": [],
   "source": [
    "from funcoes import populacao_inicial_senha\n",
    "from funcoes import funcao_objetiva_pop_senha\n",
    "from funcoes import selecao_torneio_min\n",
    "from funcoes import cruzamento_ponto_simples as funcao_cruzamento\n",
    "from funcoes import mutacao_senha\n",
    "import random"
   ]
  },
  {
   "cell_type": "markdown",
   "metadata": {},
   "source": [
    "## Códigos e discussão\n",
    "\n"
   ]
  },
  {
   "cell_type": "code",
   "execution_count": 2,
   "metadata": {},
   "outputs": [],
   "source": [
    "### Constantes\n",
    "# Relacionadas à busca\n",
    "TAMANHO_POP = 50\n",
    "NUM_GERACOES = 2000\n",
    "CHANCE_CRUZAMENTO = 0.5\n",
    "CHANCE_MUTACAO = 0.05\n",
    "NUM_COMBATENTES_NO_TORNEIO = 3\n",
    "\n",
    "# Relacionadas ao problema a ser resulvido\n",
    "SENHA = \"correcthorsebatterystaple\"\n",
    "LETRAS_POSSIVEIS = \"abcdefghijklmnopqrstuvwxyz\"\n",
    "NUM_GENES = len(SENHA)"
   ]
  },
  {
   "cell_type": "code",
   "execution_count": 3,
   "metadata": {},
   "outputs": [],
   "source": [
    "# Funções locais\n",
    "def cria_populacao_inicial(tamanho, tamanho_senha):\n",
    "    return populacao_inicial_senha(tamanho, tamanho_senha, LETRAS_POSSIVEIS)\n",
    "\n",
    "def funcao_objetiva_pop(populacao):\n",
    "    return funcao_objetiva_pop_senha(populacao, SENHA)\n",
    "\n",
    "def funcao_selecao(populacao, fitness):\n",
    "    return selecao_torneio_min(populacao, fitness, NUM_COMBATENTES_NO_TORNEIO)\n",
    "\n",
    "def funcao_mutacao(individuo):\n",
    "    return mutacao_senha(individuo, LETRAS_POSSIVEIS)"
   ]
  },
  {
   "cell_type": "code",
   "execution_count": 4,
   "metadata": {},
   "outputs": [
    {
     "name": "stdout",
     "output_type": "stream",
     "text": [
      "Progresso da melhor senha já vista:\n",
      "emiogfohtlwmlzvgagztlautb - fitness: 140\n",
      "ghxhgsumvntmaisrdlxmrvpqq - fitness: 137\n",
      "btosmbymvntmaisrdlxmrvpqq - fitness: 115\n",
      "btosmbymvntmaisrdlxmrvpqb - fitness: 106\n",
      "btosmbymvntmaisrdlztlautb - fitness: 94\n",
      "btosmbohtntmaisrdlztlautb - fitness: 87\n",
      "btosmbohtntmadsrdlztlautb - fitness: 82\n",
      "btosgbohtntmaisrdlztlautb - fitness: 81\n",
      "bmosgbohtntmaisrdlztlautb - fitness: 78\n",
      "btosgbohtntmadsrdlztlautb - fitness: 76\n",
      "btosgbohtntmadsrdlztlaotb - fitness: 72\n",
      "bmosgbohtntmadsrdlztlaotb - fitness: 69\n",
      "bmosgbohtntmadsrdlztlaogb - fitness: 66\n",
      "bmosgbohtntmadsrdpztlaotb - fitness: 65\n",
      "bmosgbohtntmadsrdpztlaogb - fitness: 62\n",
      "bmosgbohtntmadsrdpztlaomb - fitness: 58\n",
      "boosgbohtntmadsrdpztlaomb - fitness: 56\n",
      "boosgbohtntmadsrepztlaomb - fitness: 55\n",
      "boosgbohtqtmadsrdpztlaomb - fitness: 53\n",
      "boosgbohtntmadsrdpztxaomb - fitness: 52\n",
      "bmosgbohtqtmadsrdpztxaomb - fitness: 51\n",
      "boosgbohtqtmadsrdpztxaomb - fitness: 49\n",
      "bossgbohtqtmadsrdpztxaomb - fitness: 47\n",
      "bossgbohtqtkadsrdpztxaomb - fitness: 45\n",
      "bossgbrhtqtkadsrdpztxaomb - fitness: 42\n",
      "bossgbrhlqtkadsrdpztxaomb - fitness: 40\n",
      "bossdbrhlqtkadsrdpztxaomb - fitness: 39\n",
      "bossdbrhlqtkadsrdpztuaomb - fitness: 36\n",
      "bossdbrhlqtkadtrdpztuaomb - fitness: 35\n",
      "bossdbrhlqtkadtrdpztuaomg - fitness: 34\n",
      "bossdbrhlqtkadttdpztuaomg - fitness: 32\n",
      "bossdbthlqtkadtrdsztuaomg - fitness: 31\n",
      "bossebthlqtkadtrdsztuaomg - fitness: 30\n",
      "bossebthlqtcadtrdsztuaomg - fitness: 26\n",
      "bossecthlqtcadtrdsztuaomg - fitness: 25\n",
      "bossecthlqtcadtrdsztuapmg - fitness: 24\n",
      "bossecthlqtcbdtsdsztuaomg - fitness: 23\n",
      "bossecthlqtcbbtsdsztuaomg - fitness: 21\n",
      "bossecthlqscbbtsdsztuaomg - fitness: 20\n",
      "dossecthlqscbbtsdsztuaomd - fitness: 19\n",
      "bossecthlqscbbtsdsztuaome - fitness: 18\n",
      "borsecthlqscbbtsdsztuaome - fitness: 17\n",
      "borsecthqqscbbtsdsztuaome - fitness: 16\n",
      "borsecthqqscbbtsdrztuaome - fitness: 15\n",
      "borsecthqqscbbtsdrytuaome - fitness: 14\n",
      "corsecthqqscbbtsdrytuaome - fitness: 13\n",
      "corsecthoqscbbtsdrytuaome - fitness: 11\n",
      "corsecthorscbbtsdrytuaome - fitness: 10\n",
      "corsecthorscbbtsdrytuaole - fitness: 9\n",
      "corsecthorscbbttdrytuaole - fitness: 8\n",
      "corsecthorsfbbttdrytuaole - fitness: 7\n",
      "corsecthorsfbbtterytuaole - fitness: 6\n",
      "corsecthorsfbatterytuaole - fitness: 5\n",
      "correcthorsfbatterytuaole - fitness: 4\n",
      "correcthorsebatterytuaole - fitness: 3\n",
      "correcthorsebatterysuaole - fitness: 2\n",
      "correcthorsebatterystaole - fitness: 1\n",
      "correcthorsebatterystaple - fitness: 0\n",
      "\n",
      "Melhor palpite da senha encontrado:\n",
      "correcthorsebatterystaple\n"
     ]
    }
   ],
   "source": [
    "populacao = cria_populacao_inicial(TAMANHO_POP, NUM_GENES)\n",
    "\n",
    "melhor_fitness_ja_visto = float(\"inf\")  # É assim que escrevemos infinito em Python.\n",
    "\n",
    "print(\"Progresso da melhor senha já vista:\")\n",
    "\n",
    "while melhor_fitness_ja_visto != 0: # Executa o algoritmo até encontrar um indivíduo com fitness zero (ou muito próxima de zero).\n",
    "    # Seleção\n",
    "    fitness = funcao_objetiva_pop(populacao)\n",
    "    populacao = funcao_selecao(populacao, fitness)\n",
    "\n",
    "    # Cruzamento\n",
    "    pais = populacao[0::2]\n",
    "    maes = populacao[1::2]\n",
    "    contador = 0\n",
    "    for pai, mae in zip(pais, maes): # Itera sobre os pares de pais e mães.\n",
    "        if random.random() <= CHANCE_CRUZAMENTO: # Verifica se o par deve cruzar conforme a probabilidade definida.\n",
    "            filho1, filho2 = funcao_cruzamento(pai, mae)\n",
    "            populacao[contador] = filho1\n",
    "            populacao[contador + 1] = filho2\n",
    "        contador = contador + 2\n",
    "        \n",
    "    # Mutação\n",
    "    for n in range(len(populacao)): # Itera sobre todos os indivíduos na população.\n",
    "        if random.random() <= CHANCE_MUTACAO: # Verifica se o indivíduo deve sofrer mutação conforme a probabilidade definida.\n",
    "            individuo = populacao[n]\n",
    "            populacao[n] = funcao_mutacao(individuo)\n",
    "            \n",
    "    # Melhor individuo já visto até agora\n",
    "    fitness = funcao_objetiva_pop(populacao)\n",
    "    menor_fitness = min(fitness)\n",
    "    if menor_fitness < melhor_fitness_ja_visto: # Verifica se a menor fitness encontrada é melhor que a melhor fitness já vista até o momento.\n",
    "        posicao = fitness.index(menor_fitness)\n",
    "        melhor_individuo_ja_visto = populacao[posicao]\n",
    "        melhor_fitness_ja_visto = menor_fitness\n",
    "        print(\"\".join(melhor_individuo_ja_visto), \"- fitness:\", melhor_fitness_ja_visto)\n",
    "print()\n",
    "print(\"Melhor palpite da senha encontrado:\")\n",
    "print(\"\".join(melhor_individuo_ja_visto))"
   ]
  },
  {
   "cell_type": "markdown",
   "metadata": {},
   "source": [
    "## Conclusão\n",
    "\n"
   ]
  },
  {
   "cell_type": "markdown",
   "metadata": {},
   "source": [
    "Esse estudo possui diversas características novas que propiciam uma abordagem interessante.\n",
    "\n",
    "Essa dinâmica de tentar acertar uma senha possui uma primeira discussão interessante: como ler a letra como uma componente que pode me proporcionar um dado comparativo. E a partir disso, outra discussão: como entender essa diferença e limitar o meu espaço amostral.\n",
    "\n",
    "A representação de letras como números promove uma aproximação matemática e, assim, uma possibilidade de proporcionar uma representação de diferença entre indivíduos, nesse caso, um cálculo de distância. Isso, com o estabelecimento de um espaço amostral adequado, configura uma busca direcionada para encontrar a senha \"misteriosa\"."
   ]
  }
 ],
 "metadata": {
  "kernelspec": {
   "display_name": "ilumpy",
   "language": "python",
   "name": "ilumpy"
  },
  "language_info": {
   "codemirror_mode": {
    "name": "ipython",
    "version": 3
   },
   "file_extension": ".py",
   "mimetype": "text/x-python",
   "name": "python",
   "nbconvert_exporter": "python",
   "pygments_lexer": "ipython3",
   "version": "3.9.7"
  },
  "org": null
 },
 "nbformat": 4,
 "nbformat_minor": 4
}
