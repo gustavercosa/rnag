{
 "cells": [
  {
   "cell_type": "markdown",
   "metadata": {},
   "source": [
    "A senha de tamanho variável\n",
    "========================================\n",
    "\n"
   ]
  },
  {
   "cell_type": "markdown",
   "metadata": {},
   "source": [
    "## Introdução\n",
    "\n"
   ]
  },
  {
   "cell_type": "markdown",
   "metadata": {},
   "source": [
    "De modo análogo ao problema de \"Descobrindo a senha\", _o experimento A.05_, temos que saber a senha correta e quantificar de alguma maneira o quão perto ou longe os palpites estão da solução a partir da função objetiva.\n",
    "\n"
   ]
  },
  {
   "cell_type": "markdown",
   "metadata": {},
   "source": [
    "## Objetivo\n",
    "\n"
   ]
  },
  {
   "cell_type": "markdown",
   "metadata": {},
   "source": [
    "Agora, nesse caso, temos que resolver o problema da senha sem fornecer a informação do tamanho da senha para a função que gera a população.\n",
    "\n"
   ]
  },
  {
   "cell_type": "markdown",
   "metadata": {},
   "source": [
    "## Importações\n",
    "\n"
   ]
  },
  {
   "cell_type": "markdown",
   "metadata": {},
   "source": [
    "Todos os comandos de `import` devem estar dentro desta seção.\n",
    "\n"
   ]
  },
  {
   "cell_type": "code",
   "execution_count": 1,
   "metadata": {},
   "outputs": [],
   "source": [
    "from funcoes import populacao_inicial_senha\n",
    "from funcoes import funcao_objetiva_pop_senha_tamanho_indeterminado\n",
    "from funcoes import selecao_torneio_min\n",
    "from funcoes import cruzamento_ponto_simples as funcao_cruzamento\n",
    "from funcoes import mutacao_senha\n",
    "from funcoes import mutacao_tamanho_senha\n",
    "import random"
   ]
  },
  {
   "cell_type": "markdown",
   "metadata": {},
   "source": [
    "## Códigos e discussão\n",
    "\n"
   ]
  },
  {
   "cell_type": "markdown",
   "metadata": {},
   "source": [
    "-   Use células de código para o código.\n",
    "\n",
    "-   Use células de texto para a discussão.\n",
    "\n",
    "-   A discussão não deve ser feita em comentários dentro das células de código. Toda discussão deve acontecer após o resultado sendo discutido foi apresentado. Exemplo: não discuta um gráfico antes de apresentá-lo.\n",
    "\n"
   ]
  },
  {
   "cell_type": "code",
   "execution_count": 2,
   "metadata": {},
   "outputs": [],
   "source": [
    "### Constantes\n",
    "\n",
    "# relacionadas à busca\n",
    "TAMANHO_POP = 50\n",
    "CHANCE_CRUZAMENTO = 0.5\n",
    "CHANCE_MUTACAO = 0.08\n",
    "CHANCE_MUTACAO_TAMANHO = 0.05\n",
    "MAXIMO_MUTACAO = 3\n",
    "NUM_COMBATENTES_NO_TORNEIO = 3\n",
    "\n",
    "# Relacionadas ao problema a ser resulvido\n",
    "SENHA = \"correcthorsebatterystaple\"\n",
    "LETRAS_POSSIVEIS = \"abcdefghijklmnopqrstuvwxyz\"\n",
    "NUM_GENES = random.choice(range(1, len(SENHA) + 5))"
   ]
  },
  {
   "cell_type": "code",
   "execution_count": 3,
   "metadata": {},
   "outputs": [],
   "source": [
    "# Funções locais\n",
    "\n",
    "def cria_populacao_inicial(tamanho, tamanho_senha):\n",
    "    return populacao_inicial_senha(tamanho, tamanho_senha, LETRAS_POSSIVEIS)\n",
    "\n",
    "def funcao_objetiva_pop(populacao):\n",
    "    return funcao_objetiva_pop_senha_tamanho_indeterminado(populacao, SENHA)\n",
    "\n",
    "def funcao_selecao(populacao, fitness):\n",
    "    return selecao_torneio_min(populacao, fitness, NUM_COMBATENTES_NO_TORNEIO)\n",
    "\n",
    "def funcao_mutacao(individuo):\n",
    "    return mutacao_senha(individuo, LETRAS_POSSIVEIS)\n",
    "\n",
    "def funcao_mutacao_tamanho(individuo):\n",
    "    return mutacao_tamanho_senha(individuo, LETRAS_POSSIVEIS, MAXIMO_MUTACAO)"
   ]
  },
  {
   "cell_type": "code",
   "execution_count": 4,
   "metadata": {},
   "outputs": [
    {
     "name": "stdout",
     "output_type": "stream",
     "text": [
      "Progresso da melhor senha já vista:\n",
      "vsjpbiwmxznmdbogbxqwybjb - fitness: 154\n",
      "qmmsnalefrckbbfzdvxmvscl - fitness: 151\n",
      "crtzolxpptmakcqrcmqxohrq - fitness: 122\n",
      "crtzclxpprmakcqrcmqxohrq - fitness: 112\n",
      "csjpbiwmprmakcqrcmqxohrq - fitness: 107\n",
      "csjpbiwmprmakcqrcmqxohrl - fitness: 102\n",
      "crjpbiwmprmakcqrcmqxohrl - fitness: 101\n",
      "csjpbiwmprmakcqrcmqxohrlh - fitness: 95\n",
      "crjpbiwmprmakcqrcmqxohrlg - fitness: 93\n",
      "csjpfiwmprmakcqrcmqxohrlg - fitness: 92\n",
      "crjpfiwmprmakcqrcmqxohrlg - fitness: 91\n",
      "crjpbiwmprmakcqrcmqsohrlg - fitness: 88\n",
      "csjpfiwmprmakcqrcmqsohrlg - fitness: 87\n",
      "crjpfiwmprmakcqrcmqsohrlg - fitness: 86\n",
      "csjpfiwmprmaccqrcmqsohrlg - fitness: 79\n",
      "crjpfiwmprmaccqrcmqsohrlg - fitness: 78\n",
      "csmpfiwmprmaccqrcmqsohrlg - fitness: 76\n",
      "crjpfiwmprmhccqrcmusohrlg - fitness: 73\n",
      "csmpfiwmprmhccqrcmusohrlg - fitness: 71\n",
      "csmpfiwhprmhccqrcmqsohrlg - fitness: 70\n",
      "csmpfiwhprmhccqrcmusohrlg - fitness: 66\n",
      "csopfiwhprmhccqrcmusohrlg - fitness: 64\n",
      "csmpfbwhprmhccqrcmusohrlg - fitness: 61\n",
      "csmpfbwhprmhccqrcmusohrld - fitness: 60\n",
      "csmpfbwhprmhccqrcuusohrlg - fitness: 59\n",
      "csmpfbwhprmhccqrcuusohrld - fitness: 58\n",
      "csmpfbwhprmhcbqrcuusohrld - fitness: 57\n",
      "csmpfbwhprmhccqrcuusvhrld - fitness: 55\n",
      "csmpfbwhprmhcbqrcuusvhrld - fitness: 54\n",
      "csmpfbwhprmhcbrrcuusvhrld - fitness: 53\n",
      "cnmpfbwhprmhcbqrcuusvhrld - fitness: 51\n",
      "cnmpfbwhprmhcbrrcuusvhrld - fitness: 50\n",
      "cnmpfbwhprmccbrrcuusvhrld - fitness: 49\n",
      "cnmpfbvhprmccbrrcuusvhrld - fitness: 48\n",
      "cnmpfcvhprmccbrrcuusvhrld - fitness: 47\n",
      "cnnpfbvhprmccbrrfuusvhrld - fitness: 46\n",
      "cnnpfbvhprmccbrrfpusvhrld - fitness: 45\n",
      "cnnpfbvhprmccbrrfqusvhrld - fitness: 44\n",
      "cnnpfbvhprmccbrrfqusvhrle - fitness: 43\n",
      "cnnpfbvhprmccbtrfqusvhrle - fitness: 41\n",
      "cnnpfbvhprmccbtrfqusvhqle - fitness: 40\n",
      "cnnpfbvhprnccbtrfqusvhqle - fitness: 39\n",
      "cnnmfcvhprmccbtrfqusvcqle - fitness: 37\n",
      "cnnpfbvhprnccbtrfqusvcqle - fitness: 34\n",
      "cnppfbvhprnccbtrfqusvcqle - fitness: 32\n",
      "cnqpfbvhprnccbtrfqvsvcqle - fitness: 30\n",
      "cnqpfcvhprnccbtrfqvsvcqle - fitness: 29\n",
      "cnqpfcvhprnccatrfqvsvcqle - fitness: 28\n",
      "cnqpfcvhprnccbtrfqxsvcqle - fitness: 27\n",
      "cnqpfcvhprndcbtrfqxsvcqle - fitness: 26\n",
      "cnqpfcvhprndcbtrfqxsucqle - fitness: 25\n",
      "cnrpfcvhprndcbtrfqxsucqle - fitness: 24\n",
      "cnqpfcvhprpdcbtrfqxsucqle - fitness: 23\n",
      "cnqpfcvhprpdcbtufqxsucqle - fitness: 22\n",
      "cnqpfcvhprpdcbtufqxsubqle - fitness: 21\n",
      "cnqsfcvhprpdcbtufqxsubqle - fitness: 20\n",
      "cnrsfcvhprpdcbtufqxsubqle - fitness: 19\n",
      "cnrsfcvhprpdcbtueqxsubqle - fitness: 18\n",
      "corsfcvhprpdcbtueqxsubqle - fitness: 17\n",
      "corsfcvhprpdcbtueqxstbqle - fitness: 16\n",
      "corsfcvhprqdcbtueqxstbqle - fitness: 15\n",
      "corsfcthprqdcbtueqxstbqle - fitness: 13\n",
      "corsfcthprqdcbtteqxstbqle - fitness: 12\n",
      "corsfcthprqdbbtteqxstbqle - fitness: 11\n",
      "corsfcthprqdbbtteqxstaqle - fitness: 10\n",
      "corrfcthprqdbbtteqxstaqle - fitness: 9\n",
      "corrfcthorqdbbtteqxstaqle - fitness: 8\n",
      "correcthorqdbbtteqxstaqle - fitness: 7\n",
      "correcthorsdbbtteqxstaqle - fitness: 5\n",
      "correcthorsdbbtteqystaqle - fitness: 4\n",
      "correcthorsdbbtteqystaple - fitness: 3\n",
      "correcthorsebatteqystaqle - fitness: 2\n",
      "correcthorsebatterystaqle - fitness: 1\n",
      "correcthorsebatterystaple - fitness: 0\n",
      "\n",
      "Melhor palpite da senha encontrado:\n",
      "correcthorsebatterystaple\n"
     ]
    }
   ],
   "source": [
    "populacao = cria_populacao_inicial(TAMANHO_POP, NUM_GENES)\n",
    "\n",
    "melhor_fitness_ja_visto = float(\"inf\")  # É assim que escrevemos infinito em Python.\n",
    "\n",
    "print(\"Progresso da melhor senha já vista:\")\n",
    "\n",
    "while melhor_fitness_ja_visto != 0:\n",
    "    # Seleção\n",
    "    fitness = funcao_objetiva_pop(populacao)\n",
    "    populacao = funcao_selecao(populacao, fitness)\n",
    "\n",
    "    # Cruzamento\n",
    "    pais = populacao[0::2]\n",
    "    maes = populacao[1::2]\n",
    "    contador = 0\n",
    "    for pai, mae in zip(pais, maes):\n",
    "        if random.random() <= CHANCE_CRUZAMENTO:\n",
    "            if len(pai) > 1 and len(mae) > 1:\n",
    "                filho1, filho2 = funcao_cruzamento(pai, mae)\n",
    "                populacao[contador] = filho1\n",
    "                populacao[contador + 1] = filho2\n",
    "        contador = contador + 2\n",
    "        \n",
    "    # Mutação\n",
    "    for n in range(len(populacao)):\n",
    "        if random.random() <= CHANCE_MUTACAO:\n",
    "            individuo = populacao[n]\n",
    "            populacao[n] = funcao_mutacao(individuo)\n",
    "            \n",
    "    # Mutação de tamanho\n",
    "    for n in range(len(populacao)):\n",
    "        if random.random() <= CHANCE_MUTACAO_TAMANHO: # Realiza mutação de tamanho com base em uma probabilidade.\n",
    "            individuo = populacao[n]\n",
    "            populacao[n] = funcao_mutacao_tamanho(individuo)\n",
    "            \n",
    "    # Melhor individuo já visto até agora\n",
    "    fitness = funcao_objetiva_pop(populacao)\n",
    "    menor_fitness = min(fitness)\n",
    "    if menor_fitness < melhor_fitness_ja_visto:\n",
    "        posicao = fitness.index(menor_fitness)\n",
    "        melhor_individuo_ja_visto = populacao[posicao]\n",
    "        melhor_fitness_ja_visto = menor_fitness\n",
    "        print(\"\".join(melhor_individuo_ja_visto), \"- fitness:\", melhor_fitness_ja_visto)\n",
    "print()\n",
    "print(\"Melhor palpite da senha encontrado:\")\n",
    "print(\"\".join(melhor_individuo_ja_visto))"
   ]
  },
  {
   "cell_type": "markdown",
   "metadata": {},
   "source": [
    "## Conclusão\n",
    "\n"
   ]
  },
  {
   "cell_type": "markdown",
   "metadata": {},
   "source": [
    "A solução proposta envolve criar uma população inicial de indivíduos aleatórios e avaliar a aptidão de cada um deles. Os indivíduos mais aptos são selecionados para reprodução, cruzamento e mutação. Esse processo é repetido por várias gerações até que a melhor solução possível seja encontrada.\n",
    "\n",
    "Além das operações tradicionais de seleção, cruzamento e mutação, a solução proposta também inclui uma mutação de tamanho. Isso permite que o algoritmo explore um espaço de busca maior e encontre soluções ainda melhores.\n",
    "\n",
    "No entanto, a qualidade da solução encontrada depende dos parâmetros utilizados, como o tamanho da população, as taxas de cruzamento e mutação, e a taxa de mutação de tamanho. É crucial ajustar esses parâmetros corretamente para garantir a eficiência do algoritmo.\n",
    "\n",
    "No geral, a solução proposta parece ser eficaz para o problema da senha de tamanho variável, embora possa ser ainda mais refinada por meio da experimentação de diferentes valores de parâmetros."
   ]
  }
 ],
 "metadata": {
  "kernelspec": {
   "display_name": "ilumpy",
   "language": "python",
   "name": "ilumpy"
  },
  "language_info": {
   "codemirror_mode": {
    "name": "ipython",
    "version": 3
   },
   "file_extension": ".py",
   "mimetype": "text/x-python",
   "name": "python",
   "nbconvert_exporter": "python",
   "pygments_lexer": "ipython3",
   "version": "3.9.7"
  },
  "org": null
 },
 "nbformat": 4,
 "nbformat_minor": 4
}
