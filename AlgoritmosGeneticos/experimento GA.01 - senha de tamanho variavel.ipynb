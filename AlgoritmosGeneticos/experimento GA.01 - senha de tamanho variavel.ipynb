{
 "cells": [
  {
   "cell_type": "markdown",
   "metadata": {},
   "source": [
    "A senha de tamanho variável\n",
    "========================================\n",
    "\n"
   ]
  },
  {
   "cell_type": "markdown",
   "metadata": {},
   "source": [
    "## Introdução\n",
    "\n"
   ]
  },
  {
   "cell_type": "markdown",
   "metadata": {},
   "source": [
    "De modo análogo ao problema de \"Descobrindo a senha\", _o experimento A.05_, temos que saber a senha correta e quantificar de alguma maneira o quão perto ou longe os palpites estão da solução a partir da função objetiva.\n",
    "\n"
   ]
  },
  {
   "cell_type": "markdown",
   "metadata": {},
   "source": [
    "## Objetivo\n",
    "\n"
   ]
  },
  {
   "cell_type": "markdown",
   "metadata": {},
   "source": [
    "Agora, nesse caso, temos que resolver o problema da senha sem fornecer a informação do tamanho da senha para a função que gera a população.\n",
    "\n"
   ]
  },
  {
   "cell_type": "markdown",
   "metadata": {},
   "source": [
    "## Importações\n",
    "\n"
   ]
  },
  {
   "cell_type": "markdown",
   "metadata": {},
   "source": [
    "Todos os comandos de `import` devem estar dentro desta seção.\n",
    "\n"
   ]
  },
  {
   "cell_type": "code",
   "execution_count": 1,
   "metadata": {},
   "outputs": [],
   "source": [
    "from funcoes import populacao_inicial_senha\n",
    "from funcoes import funcao_objetiva_pop_senha_tamanho_indeterminado\n",
    "from funcoes import selecao_torneio_min\n",
    "from funcoes import cruzamento_ponto_simples as funcao_cruzamento\n",
    "from funcoes import mutacao_senha\n",
    "from funcoes import mutacao_tamanho_senha\n",
    "import random"
   ]
  },
  {
   "cell_type": "markdown",
   "metadata": {},
   "source": [
    "## Códigos e discussão\n",
    "\n"
   ]
  },
  {
   "cell_type": "markdown",
   "metadata": {},
   "source": [
    "-   Use células de código para o código.\n",
    "\n",
    "-   Use células de texto para a discussão.\n",
    "\n",
    "-   A discussão não deve ser feita em comentários dentro das células de código. Toda discussão deve acontecer após o resultado sendo discutido foi apresentado. Exemplo: não discuta um gráfico antes de apresentá-lo.\n",
    "\n"
   ]
  },
  {
   "cell_type": "code",
   "execution_count": 2,
   "metadata": {},
   "outputs": [],
   "source": [
    "### Constantes\n",
    "\n",
    "# relacionadas à busca\n",
    "TAMANHO_POP = 50\n",
    "CHANCE_CRUZAMENTO = 0.5\n",
    "CHANCE_MUTACAO = 0.05\n",
    "CHANCE_MUTACAO_TAMANHO = 0.05\n",
    "MAXIMO_MUTACAO = 3\n",
    "NUM_COMBATENTES_NO_TORNEIO = 3\n",
    "\n",
    "# Relacionadas ao problema a ser resulvido\n",
    "SENHA = \"correcthorsebatterystaple\"\n",
    "LETRAS_POSSIVEIS = \"abcdefghijklmnopqrstuvwxyz\"\n",
    "NUM_GENES = random.choice(range(1, len(SENHA) + 5))"
   ]
  },
  {
   "cell_type": "code",
   "execution_count": 3,
   "metadata": {},
   "outputs": [],
   "source": [
    "# Funções locais\n",
    "\n",
    "def cria_populacao_inicial(tamanho, tamanho_senha):\n",
    "    return populacao_inicial_senha(tamanho, tamanho_senha, LETRAS_POSSIVEIS)\n",
    "\n",
    "def funcao_objetiva_pop(populacao):\n",
    "    return funcao_objetiva_pop_senha_tamanho_indeterminado(populacao, SENHA)\n",
    "\n",
    "def funcao_selecao(populacao, fitness):\n",
    "    return selecao_torneio_min(populacao, fitness, NUM_COMBATENTES_NO_TORNEIO)\n",
    "\n",
    "def funcao_mutacao(individuo):\n",
    "    return mutacao_senha(individuo, LETRAS_POSSIVEIS)\n",
    "\n",
    "def funcao_mutacao_tamanho(individuo):\n",
    "    return mutacao_tamanho_senha(individuo, LETRAS_POSSIVEIS, MAXIMO_MUTACAO)"
   ]
  },
  {
   "cell_type": "code",
   "execution_count": 4,
   "metadata": {},
   "outputs": [
    {
     "name": "stdout",
     "output_type": "stream",
     "text": [
      "Progresso da melhor senha já vista:\n",
      "cqoyedtauv - fitness: 180\n",
      "cqoyemugoo - fitness: 177\n",
      "cqoyedugoo - fitness: 168\n",
      "cqqpeducoo - fitness: 165\n",
      "ckrledtgop - fitness: 164\n",
      "ckrledtgopxqh - fitness: 157\n",
      "cqrledtgopxqh - fitness: 155\n",
      "cqqpedulppxqb - fitness: 151\n",
      "ckrledtgopxqhiw - fitness: 148\n",
      "ckqpedtgopxqhago - fitness: 142\n",
      "ckrledtgopxqhiwdhu - fitness: 140\n",
      "ckrpedtgopxqhiwdhu - fitness: 136\n",
      "ckqpedtgopxqagwdhu - fitness: 130\n",
      "cqrpedtgopxbhiwo - fitness: 128\n",
      "cqrpedtgopxqagwdhu - fitness: 127\n",
      "cqrpedtgopxbhiwodg - fitness: 120\n",
      "cqrpedtgopxbagwdhu - fitness: 118\n",
      "cqrpedtgopxbhiwodp - fitness: 111\n",
      "cqrpedtgopxbagwdhux - fitness: 109\n",
      "cqrpedtgopzbhiwodpw - fitness: 105\n",
      "cqrpedtgopxbhiwodpw - fitness: 103\n",
      "cqrpedtgopxbaiwodpw - fitness: 98\n",
      "cqrpedtgopxbaiwodpx - fitness: 97\n",
      "cqrpedtgopxbhcwodpx - fitness: 96\n",
      "cqrpedtgopxbhcwohuxto - fitness: 85\n",
      "cqrpfdtgopybacwohuxto - fitness: 82\n",
      "cqrpfdtgopxbaiwvdpxto - fitness: 81\n",
      "cqrpedtgopybacwohuxtv - fitness: 78\n",
      "cqrpfdtgopxbaiwohuxtoiym - fitness: 75\n",
      "cqrpfdtgopybacwohuxtodr - fitness: 67\n",
      "cqrpedtgopybacwohuxtodr - fitness: 66\n",
      "cqrpfdtgopybacwyduxtodr - fitness: 65\n",
      "cqrpfdtgopxbacwvdpxtodr - fitness: 60\n",
      "cqrpfdthopxbacwvdpxtodr - fitness: 59\n",
      "cqrpfdthopxbacwvdpxtodraj - fitness: 55\n",
      "cqrpfdthopxbacwvdpxtodrn - fitness: 51\n",
      "cqrpedthopxbacwvdpxtodrlf - fitness: 39\n",
      "cqrpedthopxbacwvdqxtodrlf - fitness: 38\n",
      "cqrpedthopxbacwvdpxtrdrlf - fitness: 36\n",
      "cqrpedthopxbacwvdpxtrbrlf - fitness: 34\n",
      "cqrpedthopxbacuvdpxtrbrlf - fitness: 32\n",
      "cqrpedthopqbacuvdpxtrbrlf - fitness: 29\n",
      "cqrpedthorqbacuvdpxtrbrlf - fitness: 27\n",
      "cqrpedthorqbacuudpxtrbrlf - fitness: 26\n",
      "cqrpedthorqbacuudpxtrbolf - fitness: 25\n",
      "corpedthorqbacuudpxtrbolf - fitness: 23\n",
      "corpecthorqbacuudpxtrbolf - fitness: 22\n",
      "corpecthorqbactudpxtrbolf - fitness: 21\n",
      "corpecthorqbactudpytrbolf - fitness: 20\n",
      "corpecthorsbactudpytrbolf - fitness: 18\n",
      "corsecthorsbactudpytrbolf - fitness: 17\n",
      "corsecthorsgactsdpytrbolf - fitness: 16\n",
      "corsecthorsgactsdpytsbolf - fitness: 15\n",
      "corsecthorsgactsdsytsbolf - fitness: 14\n",
      "corsecthorsgbctsdsytsbolf - fitness: 13\n",
      "corsecthorsgbctsdsyssbolf - fitness: 12\n",
      "corsecthorsgbatsdsyssbolf - fitness: 10\n",
      "corsecthorsgbattdsyssbolf - fitness: 9\n",
      "corsecthorsgbattdsyssbplf - fitness: 8\n",
      "corsecthorsdbattdsyssbplf - fitness: 7\n",
      "corsecthorsdbattdsyssbple - fitness: 6\n",
      "corsecthorsdbattdsyssaple - fitness: 5\n",
      "corsecthorsdbattesyssaple - fitness: 4\n",
      "corsecthorsdbatteryssaple - fitness: 3\n",
      "corsecthorsebatteryssaple - fitness: 2\n",
      "corsecthorsebatterystaple - fitness: 1\n",
      "correcthorsebatterystaple - fitness: 0\n",
      "\n",
      "Melhor palpite da senha encontrado:\n",
      "correcthorsebatterystaple\n"
     ]
    }
   ],
   "source": [
    "populacao = cria_populacao_inicial(TAMANHO_POP, NUM_GENES)\n",
    "\n",
    "melhor_fitness_ja_visto = float(\"inf\")  # É assim que escrevemos infinito em Python.\n",
    "\n",
    "print(\"Progresso da melhor senha já vista:\")\n",
    "\n",
    "while melhor_fitness_ja_visto != 0:\n",
    "    # Seleção\n",
    "    fitness = funcao_objetiva_pop(populacao)\n",
    "    populacao = funcao_selecao(populacao, fitness)\n",
    "\n",
    "    # Cruzamento\n",
    "    pais = populacao[0::2]\n",
    "    maes = populacao[1::2]\n",
    "    contador = 0\n",
    "    for pai, mae in zip(pais, maes):\n",
    "        if random.random() <= CHANCE_CRUZAMENTO:\n",
    "            if len(pai) > 1 and len(mae) > 1:\n",
    "                filho1, filho2 = funcao_cruzamento(pai, mae)\n",
    "                populacao[contador] = filho1\n",
    "                populacao[contador + 1] = filho2\n",
    "        contador = contador + 2\n",
    "        \n",
    "    # Mutação\n",
    "    for n in range(len(populacao)):\n",
    "        if random.random() <= CHANCE_MUTACAO:\n",
    "            individuo = populacao[n]\n",
    "            populacao[n] = funcao_mutacao(individuo)\n",
    "            \n",
    "    # Mutação de tamanho\n",
    "    for n in range(len(populacao)):\n",
    "        if random.random() <= CHANCE_MUTACAO_TAMANHO:\n",
    "            individuo = populacao[n]\n",
    "            populacao[n] = funcao_mutacao_tamanho(individuo)\n",
    "            \n",
    "    # Melhor individuo já visto até agora\n",
    "    fitness = funcao_objetiva_pop(populacao)\n",
    "    menor_fitness = min(fitness)\n",
    "    if menor_fitness < melhor_fitness_ja_visto:\n",
    "        posicao = fitness.index(menor_fitness)\n",
    "        melhor_individuo_ja_visto = populacao[posicao]\n",
    "        melhor_fitness_ja_visto = menor_fitness\n",
    "        print(\"\".join(melhor_individuo_ja_visto), \"- fitness:\", melhor_fitness_ja_visto)\n",
    "print()\n",
    "print(\"Melhor palpite da senha encontrado:\")\n",
    "print(\"\".join(melhor_individuo_ja_visto))"
   ]
  },
  {
   "cell_type": "markdown",
   "metadata": {},
   "source": [
    "## Conclusão\n",
    "\n"
   ]
  },
  {
   "cell_type": "markdown",
   "metadata": {},
   "source": [
    "A solução proposta envolve criar uma população inicial de indivíduos aleatórios e avaliar a aptidão de cada um deles. Os indivíduos mais aptos são selecionados para reprodução, cruzamento e mutação. Esse processo é repetido por várias gerações até que a melhor solução possível seja encontrada.\n",
    "\n",
    "Além das operações tradicionais de seleção, cruzamento e mutação, a solução proposta também inclui uma mutação de tamanho. Isso permite que o algoritmo explore um espaço de busca maior e encontre soluções ainda melhores.\n",
    "\n",
    "No entanto, a qualidade da solução encontrada depende dos parâmetros utilizados, como o tamanho da população, as taxas de cruzamento e mutação, e a taxa de mutação de tamanho. É crucial ajustar esses parâmetros corretamente para garantir a eficiência do algoritmo.\n",
    "\n",
    "No geral, a solução proposta parece ser eficaz para o problema da senha de tamanho variável, embora possa ser ainda mais refinada por meio da experimentação de diferentes valores de parâmetros."
   ]
  }
 ],
 "metadata": {
  "kernelspec": {
   "display_name": "ilumpy",
   "language": "python",
   "name": "ilumpy"
  },
  "language_info": {
   "codemirror_mode": {
    "name": "ipython",
    "version": 3
   },
   "file_extension": ".py",
   "mimetype": "text/x-python",
   "name": "python",
   "nbconvert_exporter": "python",
   "pygments_lexer": "ipython3",
   "version": "3.9.7"
  },
  "org": null
 },
 "nbformat": 4,
 "nbformat_minor": 4
}
