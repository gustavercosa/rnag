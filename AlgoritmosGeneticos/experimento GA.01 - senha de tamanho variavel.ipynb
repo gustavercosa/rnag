{
 "cells": [
  {
   "cell_type": "markdown",
   "metadata": {},
   "source": [
    "A senha de tamanho variável\n",
    "========================================\n",
    "\n"
   ]
  },
  {
   "cell_type": "markdown",
   "metadata": {},
   "source": [
    "## Introdução\n",
    "\n"
   ]
  },
  {
   "cell_type": "markdown",
   "metadata": {},
   "source": [
    "De modo análogo ao problema de \"Descobrindo a senha\", _o experimento A.05_, temos que saber a senha correta e quantificar de alguma maneira o quão perto ou longe os palpites estão da solução a partir da função objetiva."
   ]
  },
  {
   "cell_type": "markdown",
   "metadata": {},
   "source": [
    "## Objetivo\n",
    "\n"
   ]
  },
  {
   "cell_type": "markdown",
   "metadata": {},
   "source": [
    "Agora, nesse caso, temos que resolver o problema da senha sem fornecer a informação do tamanho da senha para a função que gera a população.\n",
    "\n"
   ]
  },
  {
   "cell_type": "markdown",
   "metadata": {},
   "source": [
    "## Importações\n",
    "\n"
   ]
  },
  {
   "cell_type": "markdown",
   "metadata": {},
   "source": [
    "Todos os comandos de `import` devem estar dentro desta seção.\n",
    "\n"
   ]
  },
  {
   "cell_type": "code",
   "execution_count": 1,
   "metadata": {},
   "outputs": [],
   "source": [
    "from funcoes import populacao_inicial_senha\n",
    "from funcoes import funcao_objetiva_pop_senha_tamanho_indeterminado\n",
    "from funcoes import selecao_torneio_min\n",
    "from funcoes import cruzamento_ponto_simples as funcao_cruzamento\n",
    "from funcoes import mutacao_senha\n",
    "from funcoes import mutacao_tamanho_senha\n",
    "import random"
   ]
  },
  {
   "cell_type": "markdown",
   "metadata": {},
   "source": [
    "## Códigos e discussão\n",
    "\n"
   ]
  },
  {
   "cell_type": "markdown",
   "metadata": {},
   "source": [
    "-   Use células de código para o código.\n",
    "\n",
    "-   Use células de texto para a discussão.\n",
    "\n",
    "-   A discussão não deve ser feita em comentários dentro das células de código. Toda discussão deve acontecer após o resultado sendo discutido foi apresentado. Exemplo: não discuta um gráfico antes de apresentá-lo.\n",
    "\n"
   ]
  },
  {
   "cell_type": "code",
   "execution_count": 2,
   "metadata": {},
   "outputs": [],
   "source": [
    "### Constantes\n",
    "# Relacionadas à busca\n",
    "TAMANHO_POP = 50\n",
    "CHANCE_CRUZAMENTO = 0.5\n",
    "CHANCE_MUTACAO = 0.08\n",
    "CHANCE_MUTACAO_TAMANHO = 0.05\n",
    "MAXIMO_MUTACAO = 3\n",
    "NUM_COMBATENTES_NO_TORNEIO = 3\n",
    "\n",
    "# Relacionadas ao problema a ser resulvido\n",
    "SENHA = \"correcthorsebatterystaple\"\n",
    "LETRAS_POSSIVEIS = \"abcdefghijklmnopqrstuvwxyz\"\n",
    "NUM_GENES = random.choice(range(1, len(SENHA) + 5))"
   ]
  },
  {
   "cell_type": "code",
   "execution_count": 3,
   "metadata": {},
   "outputs": [],
   "source": [
    "# Funções locais\n",
    "def cria_populacao_inicial(tamanho, tamanho_senha):\n",
    "    return populacao_inicial_senha(tamanho, tamanho_senha, LETRAS_POSSIVEIS)\n",
    "\n",
    "def funcao_objetiva_pop(populacao):\n",
    "    return funcao_objetiva_pop_senha_tamanho_indeterminado(populacao, SENHA)\n",
    "\n",
    "def funcao_selecao(populacao, fitness):\n",
    "    return selecao_torneio_min(populacao, fitness, NUM_COMBATENTES_NO_TORNEIO)\n",
    "\n",
    "def funcao_mutacao(individuo):\n",
    "    return mutacao_senha(individuo, LETRAS_POSSIVEIS)\n",
    "\n",
    "def funcao_mutacao_tamanho(individuo):\n",
    "    return mutacao_tamanho_senha(individuo, LETRAS_POSSIVEIS, MAXIMO_MUTACAO)"
   ]
  },
  {
   "cell_type": "code",
   "execution_count": 4,
   "metadata": {},
   "outputs": [
    {
     "name": "stdout",
     "output_type": "stream",
     "text": [
      "Progresso da melhor senha já vista:\n",
      "bopwgdtrbrmbfawzwbujsh - fitness: 141\n",
      "bopwgdtrbrmbfawzwbujshbn - fitness: 137\n",
      "bopwgdtrbrmbfawzwbujshs - fitness: 134\n",
      "bopwgdtrbrmbfawzfbujshqc - fitness: 114\n",
      "bopwgdtrbqubfawzfbujshqc - fitness: 111\n",
      "bopwgdtrbqubfawofbujshqc - fitness: 110\n",
      "boywgdtrbqubfawyaorxshqc - fitness: 104\n",
      "bopwgdtrbqubfawyaorxshqc - fitness: 99\n",
      "bopwgdtdbqubfawyaorxshqc - fitness: 93\n",
      "bopwgdtdbqubfawzforxshqc - fitness: 91\n",
      "bopwgdtdbqubfawyaorxshqcb - fitness: 86\n",
      "bopwgdtdbqubfawzforxshqcb - fitness: 84\n",
      "bopwgdtdyqubfawzforxshqcb - fitness: 81\n",
      "bopwgdtdyqubfawzforwshqcb - fitness: 80\n",
      "bopwgdtdbqubfawzfoxwshqcb - fitness: 77\n",
      "bopwgdtdyqubfawzfoxwshqcb - fitness: 74\n",
      "boqwgdtdyqubfawzfoxwshqcb - fitness: 73\n",
      "bopwgdtdpqubfawzfoxwshqcb - fitness: 65\n",
      "boqwgdtdpqubfawzfoxwshqcb - fitness: 64\n",
      "bopwgdthpqubfawzfoxwshqcb - fitness: 61\n",
      "bopwgdthpqubfawxfoxwshqcb - fitness: 59\n",
      "boqwgdthpqubfawxfoxwshqcb - fitness: 58\n",
      "boqwgdthpqubfawxfoxwshqcf - fitness: 56\n",
      "bopwgdthpqubfawxfoxwsdqcf - fitness: 53\n",
      "bopwfdthpqubfawxfoxwsdqcf - fitness: 52\n",
      "boqwfdthpqubfawxfoxwsdqcf - fitness: 51\n",
      "boqwfdthpqubfawxfoxwsdpcf - fitness: 50\n",
      "boqwfdthpqubaawxfoxwsdpcf - fitness: 47\n",
      "boqwfcthpqubaawxfoxwsdplf - fitness: 37\n",
      "boqofcthpqubaawxfoxwsdplf - fitness: 35\n",
      "boqofcthpqubaawxfoxqsdplf - fitness: 33\n",
      "boqrfcthpqubaawxfoxqsdplf - fitness: 30\n",
      "borofcthpqudbawxfpxqsdplf - fitness: 28\n",
      "corodcthpqudbawxfpxqsdplf - fitness: 27\n",
      "corodcthpqudbawxfpxtsdplf - fitness: 26\n",
      "corodcthpqudbawsfpxtsdplf - fitness: 23\n",
      "corodcthpqudbawsfpxtsaplf - fitness: 20\n",
      "corsdcthpqtdbavtfpxtsdplf - fitness: 18\n",
      "corsdcthpqtdbavtfpxtscplf - fitness: 17\n",
      "corsdcthpqtdbattfpxtsdplf - fitness: 16\n",
      "corsdcthpqtdbattfpxtscplf - fitness: 15\n",
      "corsdcthpqtdbattfpytscplf - fitness: 14\n",
      "corsdcthpqtdbattfpysscplf - fitness: 13\n",
      "corsdcthoqtdbattfpysscplf - fitness: 12\n",
      "corsdcthoqtdbattfpyssaplf - fitness: 10\n",
      "corsdcthoqtdbatterysscplf - fitness: 9\n",
      "corsdcthoqtebatterysscplf - fitness: 8\n",
      "corsdcthoqtebatterysscple - fitness: 7\n",
      "corsdcthoqtebatterystcple - fitness: 6\n",
      "corsdcthoqsebatterystcple - fitness: 5\n",
      "corsecthoqsebatterystcple - fitness: 4\n",
      "corsdcthoqsebatterystaple - fitness: 3\n",
      "corsecthoqsebatterystaple - fitness: 2\n",
      "corsecthorsebatterystaple - fitness: 1\n",
      "correcthorsebatterystaple - fitness: 0\n",
      "\n",
      "Melhor palpite da senha encontrado:\n",
      "correcthorsebatterystaple\n"
     ]
    }
   ],
   "source": [
    "populacao = cria_populacao_inicial(TAMANHO_POP, NUM_GENES)\n",
    "\n",
    "melhor_fitness_ja_visto = float(\"inf\")  # É assim que escrevemos infinito em Python.\n",
    "\n",
    "print(\"Progresso da melhor senha já vista:\")\n",
    "\n",
    "while melhor_fitness_ja_visto != 0:\n",
    "    # Seleção\n",
    "    fitness = funcao_objetiva_pop(populacao)\n",
    "    populacao = funcao_selecao(populacao, fitness)\n",
    "\n",
    "    # Cruzamento\n",
    "    pais = populacao[0::2]\n",
    "    maes = populacao[1::2]\n",
    "    contador = 0\n",
    "    for pai, mae in zip(pais, maes):\n",
    "        if random.random() <= CHANCE_CRUZAMENTO:\n",
    "            if len(pai) > 1 and len(mae) > 1:\n",
    "                filho1, filho2 = funcao_cruzamento(pai, mae)\n",
    "                populacao[contador] = filho1\n",
    "                populacao[contador + 1] = filho2\n",
    "        contador = contador + 2\n",
    "        \n",
    "    # Mutação\n",
    "    for n in range(len(populacao)):\n",
    "        if random.random() <= CHANCE_MUTACAO:\n",
    "            individuo = populacao[n]\n",
    "            populacao[n] = funcao_mutacao(individuo)\n",
    "            \n",
    "    # Mutação de tamanho\n",
    "    for n in range(len(populacao)):\n",
    "        if random.random() <= CHANCE_MUTACAO_TAMANHO: # Realiza mutação de tamanho com base em uma probabilidade.\n",
    "            individuo = populacao[n]\n",
    "            populacao[n] = funcao_mutacao_tamanho(individuo)\n",
    "            \n",
    "    # Melhor individuo já visto até agora\n",
    "    fitness = funcao_objetiva_pop(populacao)\n",
    "    menor_fitness = min(fitness)\n",
    "    if menor_fitness < melhor_fitness_ja_visto:\n",
    "        posicao = fitness.index(menor_fitness)\n",
    "        melhor_individuo_ja_visto = populacao[posicao]\n",
    "        melhor_fitness_ja_visto = menor_fitness\n",
    "        print(\"\".join(melhor_individuo_ja_visto), \"- fitness:\", melhor_fitness_ja_visto)\n",
    "print()\n",
    "print(\"Melhor palpite da senha encontrado:\")\n",
    "print(\"\".join(melhor_individuo_ja_visto))"
   ]
  },
  {
   "cell_type": "markdown",
   "metadata": {},
   "source": [
    "## Conclusão\n",
    "\n"
   ]
  },
  {
   "cell_type": "markdown",
   "metadata": {},
   "source": [
    "A solução proposta envolve criar uma população inicial de indivíduos aleatórios e avaliar a aptidão de cada um deles. Os indivíduos mais aptos são selecionados para reprodução, cruzamento e mutação. Esse processo é repetido por várias gerações até que a melhor solução possível seja encontrada.\n",
    "\n",
    "Além das operações tradicionais de seleção, cruzamento e mutação, a solução proposta também inclui uma mutação de tamanho. Isso permite que o algoritmo explore um espaço de busca maior e encontre soluções ainda melhores.\n",
    "\n",
    "Comparado com o experimento A.05, esse novo código tem a adição de uma função mutação de tamanho, que pode ou não mudar o tamanho dos indivíduos aleatoriamente. Isso é feito definindo uma probabilidade de mutação de tamanho e, em seguida, iterando sobre todos os indivíduos da população e aplicando a função mutação de tamanho aleatoriamente.\n",
    "\n",
    "No entanto, a qualidade da solução encontrada depende dos parâmetros utilizados, como o tamanho da população, as taxas de cruzamento e mutação, e a taxa de mutação de tamanho. É crucial ajustar esses parâmetros corretamente para garantir a eficiência do algoritmo.\n",
    "\n",
    "Em termos de eficiência, adicionar uma função de mutação de tamanho pode ajudar o algoritmo a convergir para uma solução adequada mais rapidamente. Mas também pode aumentar o tempo de execução do algoritmo porque agora há mais variáveis a serem consideradas.\n",
    "\n",
    "No geral, a solução proposta parece ser eficaz para o problema da senha de tamanho variável, embora possa ser ainda mais refinada por meio da experimentação de diferentes valores de parâmetros."
   ]
  }
 ],
 "metadata": {
  "kernelspec": {
   "display_name": "ilumpy",
   "language": "python",
   "name": "ilumpy"
  },
  "language_info": {
   "codemirror_mode": {
    "name": "ipython",
    "version": 3
   },
   "file_extension": ".py",
   "mimetype": "text/x-python",
   "name": "python",
   "nbconvert_exporter": "python",
   "pygments_lexer": "ipython3",
   "version": "3.9.7"
  },
  "org": null
 },
 "nbformat": 4,
 "nbformat_minor": 4
}
