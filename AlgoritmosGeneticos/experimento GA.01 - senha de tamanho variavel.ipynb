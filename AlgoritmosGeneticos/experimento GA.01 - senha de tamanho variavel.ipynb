{
 "cells": [
  {
   "cell_type": "markdown",
   "metadata": {},
   "source": [
    "A senha de tamanho variável\n",
    "========================================\n",
    "\n"
   ]
  },
  {
   "cell_type": "markdown",
   "metadata": {},
   "source": [
    "## Introdução\n",
    "\n"
   ]
  },
  {
   "cell_type": "markdown",
   "metadata": {},
   "source": [
    "De modo análogo ao problema de \"Descobrindo a senha\", _o experimento A.05_, temos que saber a senha correta e quantificar de alguma maneira o quão perto ou longe os palpites estão da solução a partir da função objetiva.\n",
    "\n"
   ]
  },
  {
   "cell_type": "markdown",
   "metadata": {},
   "source": [
    "## Objetivo\n",
    "\n"
   ]
  },
  {
   "cell_type": "markdown",
   "metadata": {},
   "source": [
    "Agora, nesse caso, temos que resolver o problema da senha sem fornecer a informação do tamanho da senha para a função que gera a população.\n",
    "\n"
   ]
  },
  {
   "cell_type": "markdown",
   "metadata": {},
   "source": [
    "## Importações\n",
    "\n"
   ]
  },
  {
   "cell_type": "markdown",
   "metadata": {},
   "source": [
    "Todos os comandos de `import` devem estar dentro desta seção.\n",
    "\n"
   ]
  },
  {
   "cell_type": "code",
   "execution_count": 1,
   "metadata": {},
   "outputs": [],
   "source": [
    "from funcoes import populacao_inicial_senha\n",
    "from funcoes import funcao_objetiva_pop_senha_tamanho_indeterminado\n",
    "from funcoes import selecao_torneio_min\n",
    "from funcoes import cruzamento_ponto_simples as funcao_cruzamento\n",
    "from funcoes import mutacao_senha\n",
    "from funcoes import mutacao_tamanho_senha\n",
    "import random"
   ]
  },
  {
   "cell_type": "markdown",
   "metadata": {},
   "source": [
    "## Códigos e discussão\n",
    "\n"
   ]
  },
  {
   "cell_type": "markdown",
   "metadata": {},
   "source": [
    "-   Use células de código para o código.\n",
    "\n",
    "-   Use células de texto para a discussão.\n",
    "\n",
    "-   A discussão não deve ser feita em comentários dentro das células de código. Toda discussão deve acontecer após o resultado sendo discutido foi apresentado. Exemplo: não discuta um gráfico antes de apresentá-lo.\n",
    "\n"
   ]
  },
  {
   "cell_type": "code",
   "execution_count": 2,
   "metadata": {},
   "outputs": [],
   "source": [
    "### Constantes\n",
    "\n",
    "# relacionadas à busca\n",
    "TAMANHO_POP = 50\n",
    "CHANCE_CRUZAMENTO = 0.5\n",
    "CHANCE_MUTACAO = 0.05\n",
    "CHANCE_MUTACAO_TAMANHO = 0.05\n",
    "MAXIMO_MUTACAO = 3\n",
    "NUM_COMBATENTES_NO_TORNEIO = 3\n",
    "\n",
    "# Relacionadas ao problema a ser resulvido\n",
    "SENHA = \"correcthorsebatterystaple\"\n",
    "LETRAS_POSSIVEIS = \"abcdefghijklmnopqrstuvwxyz\"\n",
    "NUM_GENES = random.choice(range(1, len(SENHA) + 5))"
   ]
  },
  {
   "cell_type": "code",
   "execution_count": 3,
   "metadata": {},
   "outputs": [],
   "source": [
    "# Funções locais\n",
    "\n",
    "def cria_populacao_inicial(tamanho, tamanho_senha):\n",
    "    return populacao_inicial_senha(tamanho, tamanho_senha, LETRAS_POSSIVEIS)\n",
    "\n",
    "def funcao_objetiva_pop(populacao):\n",
    "    return funcao_objetiva_pop_senha_tamanho_indeterminado(populacao, SENHA)\n",
    "\n",
    "def funcao_selecao(populacao, fitness):\n",
    "    return selecao_torneio_min(populacao, fitness, NUM_COMBATENTES_NO_TORNEIO)\n",
    "\n",
    "def funcao_mutacao(individuo):\n",
    "    return mutacao_senha(individuo, LETRAS_POSSIVEIS)\n",
    "\n",
    "def funcao_mutacao_tamanho(individuo):\n",
    "    return mutacao_tamanho_senha(individuo, LETRAS_POSSIVEIS, MAXIMO_MUTACAO)"
   ]
  },
  {
   "cell_type": "code",
   "execution_count": 4,
   "metadata": {},
   "outputs": [
    {
     "name": "stdout",
     "output_type": "stream",
     "text": [
      "Progresso da melhor senha já vista:\n",
      "cotpfctgk - fitness: 170\n",
      "cotpfctgo - fitness: 166\n",
      "cotpfctgkiw - fitness: 163\n",
      "cotpfctgom - fitness: 161\n",
      "cotpfctgofsf - fitness: 149\n",
      "cotpfctgofsfb - fitness: 139\n",
      "cotrfctgofsfb - fitness: 137\n",
      "cosrfctgofsfbhp - fitness: 127\n",
      "cosrfctgofsfbhwz - fitness: 122\n",
      "cosrfctgovsfbhw - fitness: 118\n",
      "cotrfctgovsfbbp - fitness: 114\n",
      "cosrfctgovsfbbp - fitness: 113\n",
      "cosrfctgofsfbbpmf - fitness: 109\n",
      "cosrfctgovsfbbpmf - fitness: 101\n",
      "cosrfctgovsfbbpmft - fitness: 93\n",
      "cosrfctgovsfbbpmfxx - fitness: 88\n",
      "cosrfctgovsfbbwmfxz - fitness: 87\n",
      "cosrfctgovsfbbwmfxxgmk - fitness: 86\n",
      "cosrfctgovsfbbwmfxzk - fitness: 85\n",
      "cosrfctgovsfbbwmfxzz - fitness: 84\n",
      "cosrfctgovsfbbwmfxzzbek - fitness: 81\n",
      "cosrfctgovsfbbwmfxzzxek - fitness: 67\n",
      "cosrfctgovsfbbwmfxzzrek - fitness: 65\n",
      "cosrfctgovsfbbwmfxzzxekkp - fitness: 59\n",
      "cosrfctgovsfbbwmfxzzxakkp - fitness: 55\n",
      "cosrfctgovsfbbvmfxzzxakkp - fitness: 54\n",
      "cosrfctgovsfbbwmfxzuxakkp - fitness: 50\n",
      "cosrfctgotsfbbvofxzmxaklp - fitness: 48\n",
      "cosrfctgotsfbbvofnzmxaklp - fitness: 46\n",
      "cosrfctgotsfbbvofnzvxaklp - fitness: 43\n",
      "cosrfctgotsfbbvofnzvxaklk - fitness: 38\n",
      "cosrfctgotsfbbvofnzvqaklk - fitness: 37\n",
      "cosrfctgotsfbbvoenzvqaklk - fitness: 36\n",
      "cosrfctgotsfbbvtenzvxaklk - fitness: 32\n",
      "cosrfctgotsfbbvtenzvqaklk - fitness: 31\n",
      "cosrfctgotsfbbvtfnzvqakli - fitness: 30\n",
      "cosrfctgotsfbbvtenzvqakli - fitness: 29\n",
      "cosrectgotsfbbvtenzvqakli - fitness: 28\n",
      "cosrectgotsfbbvteuzvqakli - fitness: 27\n",
      "cosrectgotsfbbvteuzvqakle - fitness: 23\n",
      "cosrectgotsfbbvteqzvqakle - fitness: 21\n",
      "cosrectgotsfbbvteqzqqakle - fitness: 20\n",
      "cosrectgorsfbbvteqzqqakle - fitness: 18\n",
      "cosrectgorsfbbvteqzqqasle - fitness: 16\n",
      "cosrectgorsfbbsteqzqqasle - fitness: 15\n",
      "cosrectgorsfbbsteqzsqasle - fitness: 13\n",
      "cosrectgorsfbbtteqzsqasle - fitness: 12\n",
      "cosrectgorsfbbtteqzsqanle - fitness: 11\n",
      "cosrectgorsfbbtteqzstanle - fitness: 8\n",
      "correctgorsfbbtteqzstanle - fitness: 7\n",
      "correcthorsfbbtteqzstanle - fitness: 6\n",
      "correcthorsfbbtteqzstaqle - fitness: 5\n",
      "correcthorsebbtteqzstaqle - fitness: 4\n",
      "correcthorsebatteqzstaqle - fitness: 3\n",
      "correcthorsebatterzstaqle - fitness: 2\n",
      "correcthorsebatterystaqle - fitness: 1\n",
      "correcthorsebatterystaple - fitness: 0\n",
      "\n",
      "Melhor palpite da senha encontrado:\n",
      "correcthorsebatterystaple\n"
     ]
    }
   ],
   "source": [
    "populacao = cria_populacao_inicial(TAMANHO_POP, NUM_GENES)\n",
    "\n",
    "melhor_fitness_ja_visto = float(\"inf\")  # é assim que escrevemos infinito em python\n",
    "\n",
    "print(\"Progresso da melhor senha já vista:\")\n",
    "\n",
    "while melhor_fitness_ja_visto != 0:\n",
    "    # Seleção\n",
    "    fitness = funcao_objetiva_pop(populacao)\n",
    "    populacao = funcao_selecao(populacao, fitness)\n",
    "\n",
    "    # Cruzamento\n",
    "    pais = populacao[0::2]\n",
    "    maes = populacao[1::2]\n",
    "\n",
    "    contador = 0\n",
    "\n",
    "    for pai, mae in zip(pais, maes):\n",
    "        if random.random() <= CHANCE_CRUZAMENTO:\n",
    "            if len(pai) > 1 and len(mae) > 1:\n",
    "                filho1, filho2 = funcao_cruzamento(pai, mae)\n",
    "                populacao[contador] = filho1\n",
    "                populacao[contador + 1] = filho2\n",
    "        contador = contador + 2\n",
    "    # Mutação\n",
    "    for n in range(len(populacao)):\n",
    "        if random.random() <= CHANCE_MUTACAO:\n",
    "            individuo = populacao[n]\n",
    "            populacao[n] = funcao_mutacao(individuo)\n",
    "            \n",
    "    # Mutação tamanho\n",
    "    for n in range(len(populacao)):\n",
    "        if random.random() <= CHANCE_MUTACAO_TAMANHO:\n",
    "            individuo = populacao[n]\n",
    "            populacao[n] = funcao_mutacao_tamanho(individuo)\n",
    "            \n",
    "    # Melhor individuo já visto até agora\n",
    "    fitness = funcao_objetiva_pop(populacao)\n",
    "    menor_fitness = min(fitness)\n",
    "    if menor_fitness < melhor_fitness_ja_visto:\n",
    "        posicao = fitness.index(menor_fitness)\n",
    "        melhor_individuo_ja_visto = populacao[posicao]\n",
    "        melhor_fitness_ja_visto = menor_fitness\n",
    "        print(\"\".join(melhor_individuo_ja_visto), \"- fitness:\", melhor_fitness_ja_visto)\n",
    "print()\n",
    "print(\"Melhor palpite da senha encontrado:\")\n",
    "print(\"\".join(melhor_individuo_ja_visto))"
   ]
  },
  {
   "cell_type": "markdown",
   "metadata": {},
   "source": [
    "## Conclusão\n",
    "\n"
   ]
  },
  {
   "cell_type": "markdown",
   "metadata": {},
   "source": [
    "Delete este texto e escreva sua conclusão.\n",
    "\n"
   ]
  },
  {
   "cell_type": "markdown",
   "metadata": {},
   "source": [
    "## Referências consultadas\n",
    "\n"
   ]
  },
  {
   "cell_type": "markdown",
   "metadata": {},
   "source": [
    "1.  Delete este texto e inclua suas referências ordenadas numericamente. Se for referenciar no notebook, use o número entre colchetes (exemplo: para citar essa referência aqui escreva &ldquo;[1]&rdquo; sem as áspas).\n",
    "\n",
    "2.  Cada item deve ser numerado. Siga o padrão apresentado.\n",
    "\n",
    "3.  Caso não tenha nenhuma referência consultada, delete esta seção e o texto contido nela!\n",
    "\n"
   ]
  },
  {
   "cell_type": "markdown",
   "metadata": {},
   "source": [
    "## Playground\n",
    "\n"
   ]
  },
  {
   "cell_type": "markdown",
   "metadata": {},
   "source": [
    "Todo código de teste que não faz parte do seu experimento deve vir aqui. Este código não será considerado na avaliação.\n",
    "\n"
   ]
  },
  {
   "cell_type": "code",
   "execution_count": null,
   "metadata": {},
   "outputs": [],
   "source": []
  }
 ],
 "metadata": {
  "kernelspec": {
   "display_name": "ilumpy",
   "language": "python",
   "name": "ilumpy"
  },
  "language_info": {
   "codemirror_mode": {
    "name": "ipython",
    "version": 3
   },
   "file_extension": ".py",
   "mimetype": "text/x-python",
   "name": "python",
   "nbconvert_exporter": "python",
   "pygments_lexer": "ipython3",
   "version": "3.9.7"
  },
  "org": null
 },
 "nbformat": 4,
 "nbformat_minor": 4
}
